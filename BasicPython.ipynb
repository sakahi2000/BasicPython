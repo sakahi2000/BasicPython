{
  "nbformat": 4,
  "nbformat_minor": 0,
  "metadata": {
    "colab": {
      "provenance": []
    },
    "kernelspec": {
      "name": "python3",
      "display_name": "Python 3"
    },
    "language_info": {
      "name": "python"
    }
  },
  "cells": [
    {
      "cell_type": "markdown",
      "source": [],
      "metadata": {
        "id": "51a_US7cN1ue"
      }
    },
    {
      "cell_type": "markdown",
      "source": [
        "1. What is python and why is it popular?\n",
        "\n",
        "Answer- Python is a high-level, interpreted programming language known for its simple, readable syntax and versatility and first released in 1991.\n",
        "It is popular for easy to read and learn, large standerd library,large community support.\n"
      ],
      "metadata": {
        "id": "7VyQ5CH9Oz3M"
      }
    },
    {
      "cell_type": "markdown",
      "source": [
        "2. what is an interpreter in python?\n",
        "\n",
        "Answer- In python, an interpreter is a program that reads and executes the Python code line by line.\n",
        "\n"
      ],
      "metadata": {
        "id": "d3k3Dy7GPiXb"
      }
    },
    {
      "cell_type": "markdown",
      "source": [
        "3. What are pre defined keyword in python?\n",
        "\n",
        "Answer- Predefined keywords in Python are reserved words that have special meaning to the Python interpreter. You cannot use them as variable names, function names, or identifiers because they are already used to define the syntax and structure of the Python language.\n",
        "ex- if,elif,else,True,False,null,while,for,etc.\n",
        "\n"
      ],
      "metadata": {
        "id": "GunU-m1xQGyt"
      }
    },
    {
      "cell_type": "markdown",
      "source": [
        "4. Can keywords be used as variable names?\n",
        "\n",
        "Answer- No, keywords cannot be used as variable names in Python.\n",
        "\n"
      ],
      "metadata": {
        "id": "aJ0zZggjRHBq"
      }
    },
    {
      "cell_type": "markdown",
      "source": [
        "5. what is mutability in python?\n",
        "\n",
        "Answer- Mutability in Python refers to whether an object can be changed after it is created.\n",
        "Two types\n",
        "Mutability object- list,set,dict\n",
        "immutable object- int,str,float,tuple\n",
        "\n"
      ],
      "metadata": {
        "id": "CpznhcDqRmz6"
      }
    },
    {
      "cell_type": "markdown",
      "source": [
        "6. Wht are list mutable but tuples are immutable?\n",
        "\n",
        "Answer- Lists in Python are designed to be flexible.You can add, remove, or change elements freely.This is useful when you need to store changing or growing data.\n",
        "\n",
        "Tuples are made to be fixed and unchangeable.They are often used to store constant data or when you want to protect data from changes.\n",
        "\n",
        "\n",
        "\n",
        "\n",
        "\n",
        "\n"
      ],
      "metadata": {
        "id": "7TGgwLsfSXGX"
      }
    },
    {
      "cell_type": "markdown",
      "source": [
        "7. What is the difference between == and IS operators in python?\n",
        "\n",
        "Answer- \"==\" in python to Checks if two values are equal, even if stored in different objects.Compares contents/values.\n",
        "\n",
        "IS in python Checks if two variables point to the same object in memory.Compares identity, not values.\n",
        "\n",
        "\n",
        "\n",
        "\n",
        "\n"
      ],
      "metadata": {
        "id": "d3Nl2eaMTKJw"
      }
    },
    {
      "cell_type": "code",
      "source": [
        "#== operators\n",
        "a= 6\n",
        "b= 5\n",
        "a == b"
      ],
      "metadata": {
        "colab": {
          "base_uri": "https://localhost:8080/"
        },
        "id": "4fv-NQixUIQs",
        "outputId": "2ebccd82-c886-40b8-b7b5-04c2ad110e2d"
      },
      "execution_count": 1,
      "outputs": [
        {
          "output_type": "execute_result",
          "data": {
            "text/plain": [
              "False"
            ]
          },
          "metadata": {},
          "execution_count": 1
        }
      ]
    },
    {
      "cell_type": "code",
      "source": [
        "#IS operators\n",
        "a = 5\n",
        "b = 5\n",
        "a is b"
      ],
      "metadata": {
        "colab": {
          "base_uri": "https://localhost:8080/"
        },
        "id": "KH6UWwKMUl3n",
        "outputId": "58daaffe-ece8-4f93-b12c-ab803a60d59a"
      },
      "execution_count": 2,
      "outputs": [
        {
          "output_type": "execute_result",
          "data": {
            "text/plain": [
              "True"
            ]
          },
          "metadata": {},
          "execution_count": 2
        }
      ]
    },
    {
      "cell_type": "code",
      "source": [
        "8. What are logical operators in python?\n",
        "\n",
        "Answer- Logical operators in Python are used to combine conditional statements (like comparisons).There are three type\n",
        "and,or,not\n",
        "\n"
      ],
      "metadata": {
        "id": "8cAz8yD6Uuiw"
      },
      "execution_count": null,
      "outputs": []
    },
    {
      "cell_type": "markdown",
      "source": [
        "9. What is type casting in python?\n",
        "\n",
        "Answer- Type casting is the process of conveting one data type into another like -\n",
        "conterting str to int\n",
        "converting int to float"
      ],
      "metadata": {
        "id": "HeCqAmp4X1vi"
      }
    },
    {
      "cell_type": "code",
      "source": [
        "a = \"5\"\n",
        "print(int(a))"
      ],
      "metadata": {
        "colab": {
          "base_uri": "https://localhost:8080/"
        },
        "id": "amH3YvJlYu-B",
        "outputId": "4576cde8-20c2-41bf-d8c7-ff5e4b1879a9"
      },
      "execution_count": 3,
      "outputs": [
        {
          "output_type": "stream",
          "name": "stdout",
          "text": [
            "5\n"
          ]
        }
      ]
    },
    {
      "cell_type": "markdown",
      "source": [
        "10. What is the difference between implicit and explicit type casting?\n",
        "\n",
        "Answer- Implicit - python automatically converts data types(int to float)\n",
        "\n",
        "Explicit - prongammer manually convert data types using functions like int(),flost(),str()"
      ],
      "metadata": {
        "id": "1N9uAbatZGSI"
      }
    },
    {
      "cell_type": "markdown",
      "source": [
        "11. What is the purpose of conditional statement in Python?\n",
        "\n",
        "Answer- Control the flow of the program and Perform different actions depending on user input, variable values, or any other condition.\n",
        "conditional statements are - if, elif,else.\n",
        "\n",
        "\n"
      ],
      "metadata": {
        "id": "evNQIY5YaEqN"
      }
    },
    {
      "cell_type": "markdown",
      "source": [
        "12. How does the ELIF statement work?\n",
        "\n",
        "Answer-  The elif statement in Python stands for \"else if\". It's used when you need to check multiple conditions in a sequence and execute the corresponding block of code for the first condition that evaluates to True.\n",
        "\n"
      ],
      "metadata": {
        "id": "hQVNImGEalE4"
      }
    },
    {
      "cell_type": "markdown",
      "source": [
        "13. What is the difference between for and while loop?\n",
        "\n",
        "Answer-  A for loop is generally used when you know in advance how many times you want to repeat a block of code. It is often used to iterate over a sequence (like a list, string, tuple, or range).\n",
        "\n",
        "\n",
        "Where iterable is a sequence (list, string, range, etc.) and item is the variable that gets assigned each value from the sequence in each iteration.\n",
        "\n",
        "\n",
        "\n",
        "\n",
        "\n"
      ],
      "metadata": {
        "id": "xR7AiI0Ea0UC"
      }
    },
    {
      "cell_type": "markdown",
      "source": [
        "14. Describe a scenario where a while loop is more suitable than a for loop?\n",
        "\n",
        "Answer-\n"
      ],
      "metadata": {
        "id": "y2pyc-JGbVbx"
      }
    },
    {
      "cell_type": "code",
      "source": [
        "while len(name) < 6:\n",
        "    name = input(\"Enter your name (at least 6 characters): \")\n",
        "    if len(name) < 6:\n",
        "        print(\"Name should have at least 6 characters. Please enter again.\")\n",
        "\n",
        "print(\"Name accepted:\", name)\n"
      ],
      "metadata": {
        "colab": {
          "base_uri": "https://localhost:8080/"
        },
        "id": "qaPFKkiJbt2Q",
        "outputId": "62897498-9fa2-421f-f6ba-ab862c42a6d3"
      },
      "execution_count": 10,
      "outputs": [
        {
          "output_type": "stream",
          "name": "stdout",
          "text": [
            "Name accepted:   sakshi\n"
          ]
        }
      ]
    },
    {
      "cell_type": "markdown",
      "source": [
        "PRACTICAL QUESTION"
      ],
      "metadata": {
        "id": "aXSquqghgr6u"
      }
    },
    {
      "cell_type": "markdown",
      "source": [
        "1.  Write a python program to print \"Hello World\""
      ],
      "metadata": {
        "id": "OYkIMedUg_d7"
      }
    },
    {
      "cell_type": "code",
      "source": [
        "#Answer-\n",
        "print(\"Hello World\")"
      ],
      "metadata": {
        "colab": {
          "base_uri": "https://localhost:8080/"
        },
        "id": "HDLOe7fUhReW",
        "outputId": "df190c00-cfdf-4557-c0fe-95b44ccf8f73"
      },
      "execution_count": 11,
      "outputs": [
        {
          "output_type": "stream",
          "name": "stdout",
          "text": [
            "Hello World\n"
          ]
        }
      ]
    },
    {
      "cell_type": "markdown",
      "source": [
        "2. Write a Python program that display your name and age.\n",
        "\n",
        "\n"
      ],
      "metadata": {
        "id": "LugopKx2hcxe"
      }
    },
    {
      "cell_type": "code",
      "source": [
        "#Answer-\n",
        "Name = \"sakshi\"\n",
        "Age = 22\n",
        "print(\"Name\", name)\n",
        "print(\"Age\", Age)"
      ],
      "metadata": {
        "colab": {
          "base_uri": "https://localhost:8080/"
        },
        "id": "S1nXLzqeh8ZL",
        "outputId": "1781dcb7-8dba-4f62-e37b-7f3033851d68"
      },
      "execution_count": 14,
      "outputs": [
        {
          "output_type": "stream",
          "name": "stdout",
          "text": [
            "Name   sakshi\n",
            "Age 22\n"
          ]
        }
      ]
    },
    {
      "cell_type": "markdown",
      "source": [
        "3. Write code to print all the predefined keyword in Python using the keyword library.\n",
        "\n",
        "\n"
      ],
      "metadata": {
        "id": "3VP2QuFajV3d"
      }
    },
    {
      "cell_type": "code",
      "source": [
        "import keyword\n",
        "print(keyword.kwlist)\n"
      ],
      "metadata": {
        "colab": {
          "base_uri": "https://localhost:8080/"
        },
        "id": "3d8xUnWUjmrP",
        "outputId": "d0c9febe-1e94-4ab2-ed8f-74804186e4d2"
      },
      "execution_count": 26,
      "outputs": [
        {
          "output_type": "stream",
          "name": "stdout",
          "text": [
            "['False', 'None', 'True', 'and', 'as', 'assert', 'async', 'await', 'break', 'class', 'continue', 'def', 'del', 'elif', 'else', 'except', 'finally', 'for', 'from', 'global', 'if', 'import', 'in', 'is', 'lambda', 'nonlocal', 'not', 'or', 'pass', 'raise', 'return', 'try', 'while', 'with', 'yield']\n"
          ]
        }
      ]
    },
    {
      "cell_type": "markdown",
      "source": [
        "4. Write a program that checks if a given word is a Python keyword.\n",
        "\n",
        "\n"
      ],
      "metadata": {
        "id": "tYg9fXIHmXdj"
      }
    },
    {
      "cell_type": "code",
      "source": [
        "import keyword\n",
        "word = input(\"Enter a word to check if it's a Python keyword: \")\n",
        "if keyword.iskeyword(word):\n",
        "    print(f\"'{word}' is a Python keyword.\")\n",
        "else:\n",
        "    print(f\"'{word}' is not a Python keyword.\")"
      ],
      "metadata": {
        "colab": {
          "base_uri": "https://localhost:8080/"
        },
        "id": "MFE02cBgnP0Q",
        "outputId": "5d9b0886-1f2a-4073-e5fb-6776b4cdc862"
      },
      "execution_count": 30,
      "outputs": [
        {
          "output_type": "stream",
          "name": "stdout",
          "text": [
            "Enter a word to check if it's a Python keyword: False\n",
            "'False' is a Python keyword.\n"
          ]
        }
      ]
    },
    {
      "cell_type": "markdown",
      "source": [
        "5. Create a list and tuple in Python and demonstrate how attempting to change on element work differently for each.\n"
      ],
      "metadata": {
        "id": "jWPmhpfQn-XS"
      }
    },
    {
      "cell_type": "code",
      "source": [
        "list = [1,2,3,\"mohan\"]\n",
        "list[2] = 50\n",
        "print(\"list\" , list)\n",
        "\n",
        "\n",
        "\n"
      ],
      "metadata": {
        "colab": {
          "base_uri": "https://localhost:8080/"
        },
        "id": "obYoSAk2oOUB",
        "outputId": "7d56390a-601e-4c44-acc8-868fb1c14b67"
      },
      "execution_count": 33,
      "outputs": [
        {
          "output_type": "stream",
          "name": "stdout",
          "text": [
            "list [1, 2, 50, 'mohan']\n"
          ]
        }
      ]
    },
    {
      "cell_type": "code",
      "source": [
        "tuple =(1,4,6,\"rohan\") #tuple can not be change because it is immutable\n",
        "tuple[2] = 100\n",
        "print(\"tuple\", tuple)"
      ],
      "metadata": {
        "colab": {
          "base_uri": "https://localhost:8080/",
          "height": 176
        },
        "id": "EArxrgx7quED",
        "outputId": "fb2f0fbe-92df-498c-f122-a72c37e6b95f"
      },
      "execution_count": 34,
      "outputs": [
        {
          "output_type": "error",
          "ename": "TypeError",
          "evalue": "'tuple' object does not support item assignment",
          "traceback": [
            "\u001b[0;31m---------------------------------------------------------------------------\u001b[0m",
            "\u001b[0;31mTypeError\u001b[0m                                 Traceback (most recent call last)",
            "\u001b[0;32m<ipython-input-34-83b183d4566f>\u001b[0m in \u001b[0;36m<cell line: 0>\u001b[0;34m()\u001b[0m\n\u001b[1;32m      1\u001b[0m \u001b[0mtuple\u001b[0m \u001b[0;34m=\u001b[0m\u001b[0;34m(\u001b[0m\u001b[0;36m1\u001b[0m\u001b[0;34m,\u001b[0m\u001b[0;36m4\u001b[0m\u001b[0;34m,\u001b[0m\u001b[0;36m6\u001b[0m\u001b[0;34m,\u001b[0m\u001b[0;34m\"rohan\"\u001b[0m\u001b[0;34m)\u001b[0m\u001b[0;34m\u001b[0m\u001b[0;34m\u001b[0m\u001b[0m\n\u001b[0;32m----> 2\u001b[0;31m \u001b[0mtuple\u001b[0m\u001b[0;34m[\u001b[0m\u001b[0;36m2\u001b[0m\u001b[0;34m]\u001b[0m \u001b[0;34m=\u001b[0m \u001b[0;36m100\u001b[0m\u001b[0;34m\u001b[0m\u001b[0;34m\u001b[0m\u001b[0m\n\u001b[0m\u001b[1;32m      3\u001b[0m \u001b[0mprint\u001b[0m\u001b[0;34m(\u001b[0m\u001b[0;34m\"tuple\"\u001b[0m\u001b[0;34m,\u001b[0m \u001b[0mtuple\u001b[0m\u001b[0;34m)\u001b[0m\u001b[0;34m\u001b[0m\u001b[0;34m\u001b[0m\u001b[0m\n",
            "\u001b[0;31mTypeError\u001b[0m: 'tuple' object does not support item assignment"
          ]
        }
      ]
    },
    {
      "cell_type": "markdown",
      "source": [
        "6. Write a function to demonstrate the behavior of mutable and immutable arguments.\n",
        "\n",
        "\n"
      ],
      "metadata": {
        "id": "lnk2XaAOq7zH"
      }
    },
    {
      "cell_type": "code",
      "source": [
        "mutable = [1, 2, 34, 4, \"mohan\"]\n",
        "mutable.append(12)  # Appending 12 to the list\n",
        "\n",
        "print(\"mutable:\", mutable)"
      ],
      "metadata": {
        "colab": {
          "base_uri": "https://localhost:8080/"
        },
        "id": "NOArgI90rI9J",
        "outputId": "a0b10499-47f4-41f8-f9ea-10084316587e"
      },
      "execution_count": 35,
      "outputs": [
        {
          "output_type": "stream",
          "name": "stdout",
          "text": [
            "mutable: [1, 2, 34, 4, 'mohan', 12]\n"
          ]
        }
      ]
    },
    {
      "cell_type": "code",
      "source": [
        "immutable = (1,2,3,6,\"rohan\")\n",
        "type(immutable)\n",
        "immutable.append(60)\n",
        "print(\"immutable\", immutable)"
      ],
      "metadata": {
        "colab": {
          "base_uri": "https://localhost:8080/",
          "height": 193
        },
        "id": "mZf_tEN2sm0I",
        "outputId": "9bfcc8be-c201-48f7-e634-4d3511afd4a0"
      },
      "execution_count": 37,
      "outputs": [
        {
          "output_type": "error",
          "ename": "AttributeError",
          "evalue": "'tuple' object has no attribute 'append'",
          "traceback": [
            "\u001b[0;31m---------------------------------------------------------------------------\u001b[0m",
            "\u001b[0;31mAttributeError\u001b[0m                            Traceback (most recent call last)",
            "\u001b[0;32m<ipython-input-37-eb46d921126d>\u001b[0m in \u001b[0;36m<cell line: 0>\u001b[0;34m()\u001b[0m\n\u001b[1;32m      1\u001b[0m \u001b[0mimmutable\u001b[0m \u001b[0;34m=\u001b[0m \u001b[0;34m(\u001b[0m\u001b[0;36m1\u001b[0m\u001b[0;34m,\u001b[0m\u001b[0;36m2\u001b[0m\u001b[0;34m,\u001b[0m\u001b[0;36m3\u001b[0m\u001b[0;34m,\u001b[0m\u001b[0;36m6\u001b[0m\u001b[0;34m,\u001b[0m\u001b[0;34m\"rohan\"\u001b[0m\u001b[0;34m)\u001b[0m\u001b[0;34m\u001b[0m\u001b[0;34m\u001b[0m\u001b[0m\n\u001b[1;32m      2\u001b[0m \u001b[0mtype\u001b[0m\u001b[0;34m(\u001b[0m\u001b[0mimmutable\u001b[0m\u001b[0;34m)\u001b[0m\u001b[0;34m\u001b[0m\u001b[0;34m\u001b[0m\u001b[0m\n\u001b[0;32m----> 3\u001b[0;31m \u001b[0mimmutable\u001b[0m\u001b[0;34m.\u001b[0m\u001b[0mappend\u001b[0m\u001b[0;34m(\u001b[0m\u001b[0;36m60\u001b[0m\u001b[0;34m)\u001b[0m\u001b[0;34m\u001b[0m\u001b[0;34m\u001b[0m\u001b[0m\n\u001b[0m\u001b[1;32m      4\u001b[0m \u001b[0mprint\u001b[0m\u001b[0;34m(\u001b[0m\u001b[0;34m\"immutable\"\u001b[0m\u001b[0;34m,\u001b[0m \u001b[0mimmutable\u001b[0m\u001b[0;34m)\u001b[0m\u001b[0;34m\u001b[0m\u001b[0;34m\u001b[0m\u001b[0m\n",
            "\u001b[0;31mAttributeError\u001b[0m: 'tuple' object has no attribute 'append'"
          ]
        }
      ]
    },
    {
      "cell_type": "markdown",
      "source": [
        "7. Write a program that perform basic arithmetic operators on two user input numbers."
      ],
      "metadata": {
        "id": "_yjsCYePtGln"
      }
    },
    {
      "cell_type": "code",
      "source": [
        "num1 = int(30)\n",
        "num2 = int(40)\n",
        "print(\"Addition\" , num1 + num2)\n",
        "print(\"Subtraction\" , num1 - num2)\n",
        "print(\"Multipication\" , num1 * num2)\n",
        "print(\"Divition\" , num1 ** num2)\n"
      ],
      "metadata": {
        "colab": {
          "base_uri": "https://localhost:8080/"
        },
        "id": "cqGy6kPotZKk",
        "outputId": "8739efdc-66f3-4d23-c9fd-97ea2b438c3b"
      },
      "execution_count": 44,
      "outputs": [
        {
          "output_type": "stream",
          "name": "stdout",
          "text": [
            "Addition 70\n",
            "Subtraction -10\n",
            "Multipication 1200\n",
            "Divition 121576654590569288010000000000000000000000000000000000000000\n"
          ]
        }
      ]
    },
    {
      "cell_type": "markdown",
      "source": [
        "8. Write a program to demonstrate the use of logical operators.\n",
        "\n",
        "\n"
      ],
      "metadata": {
        "id": "ADMqUO4Zw6h2"
      }
    },
    {
      "cell_type": "code",
      "source": [
        "a = 10\n",
        "b = 20\n",
        "\n",
        "# Logical AND\n",
        "print(\"Logical AND (a > 5 and b > 15):\", a > 5 and b > 15)\n",
        "\n",
        "# Logical OR\n",
        "print(\"Logical OR (a > 15 or b > 15):\", a > 15 or b > 15)\n",
        "\n",
        "# Logical NOT\n",
        "print(\"Logical NOT (not a > 5):\", not a > 5)"
      ],
      "metadata": {
        "colab": {
          "base_uri": "https://localhost:8080/"
        },
        "id": "TmBCwhgLxIaY",
        "outputId": "665622a2-ce4f-4ae5-b246-9fa61ac5a1e9"
      },
      "execution_count": 45,
      "outputs": [
        {
          "output_type": "stream",
          "name": "stdout",
          "text": [
            "Logical AND (a > 5 and b > 15): True\n",
            "Logical OR (a > 15 or b > 15): True\n",
            "Logical NOT (not a > 5): False\n"
          ]
        }
      ]
    },
    {
      "cell_type": "markdown",
      "source": [
        "9. write a python Program to convert User Input from String to Integer, Float, and Boolean Types.\n"
      ],
      "metadata": {
        "id": "K9Af4O8pxnKR"
      }
    },
    {
      "cell_type": "code",
      "source": [
        "#convert str to int\n",
        "int_value = int(\"6\")\n",
        "print(int_value)"
      ],
      "metadata": {
        "colab": {
          "base_uri": "https://localhost:8080/"
        },
        "id": "6Z0eTPbrx6_q",
        "outputId": "6b6f3636-18ec-4a2f-c1da-7466ed6328f7"
      },
      "execution_count": 50,
      "outputs": [
        {
          "output_type": "stream",
          "name": "stdout",
          "text": [
            "6\n"
          ]
        }
      ]
    },
    {
      "cell_type": "code",
      "source": [
        "#convert int to str\n",
        "str_value = str(4)\n",
        "print(str_value)\n",
        "type(str_value)"
      ],
      "metadata": {
        "colab": {
          "base_uri": "https://localhost:8080/"
        },
        "id": "inUDsKyXzkNQ",
        "outputId": "bb5aacfa-6338-4759-f83e-ae19cb06113b"
      },
      "execution_count": 52,
      "outputs": [
        {
          "output_type": "stream",
          "name": "stdout",
          "text": [
            "4\n"
          ]
        },
        {
          "output_type": "execute_result",
          "data": {
            "text/plain": [
              "str"
            ]
          },
          "metadata": {},
          "execution_count": 52
        }
      ]
    },
    {
      "cell_type": "code",
      "source": [
        "#convert int into boolean\n",
        "boolean_value = bool(\"sun\")\n",
        "print(boolean_value)"
      ],
      "metadata": {
        "colab": {
          "base_uri": "https://localhost:8080/"
        },
        "id": "koGvGEcW0ZBi",
        "outputId": "d371c689-56c5-42ad-c4e9-1fbdbf674456"
      },
      "execution_count": 53,
      "outputs": [
        {
          "output_type": "stream",
          "name": "stdout",
          "text": [
            "True\n"
          ]
        }
      ]
    },
    {
      "cell_type": "markdown",
      "source": [
        "10. Write code to demonstrate typecasting with list elements.\n"
      ],
      "metadata": {
        "id": "gMzNAS9506iM"
      }
    },
    {
      "cell_type": "code",
      "source": [
        "my_list = [\"20\",\"30\",\"mohan\",int(\"50\")]\n",
        "print(my_list)"
      ],
      "metadata": {
        "colab": {
          "base_uri": "https://localhost:8080/"
        },
        "id": "Y-g5S8Qc1LWo",
        "outputId": "7897ea37-e661-4219-a14f-0741b77370b3"
      },
      "execution_count": 55,
      "outputs": [
        {
          "output_type": "stream",
          "name": "stdout",
          "text": [
            "['20', '30', 'mohan', 50]\n"
          ]
        }
      ]
    },
    {
      "cell_type": "code",
      "source": [
        "my_list = [\"20\",\"30\",\"mohan\",float(\"50\")]\n",
        "print(my_list)"
      ],
      "metadata": {
        "colab": {
          "base_uri": "https://localhost:8080/"
        },
        "id": "9nyetQ5x2D2j",
        "outputId": "48f83a8e-08cc-44a3-b226-7efea0418c73"
      },
      "execution_count": 56,
      "outputs": [
        {
          "output_type": "stream",
          "name": "stdout",
          "text": [
            "['20', '30', 'mohan', 50.0]\n"
          ]
        }
      ]
    },
    {
      "cell_type": "markdown",
      "source": [
        "11. Write a program that checks if a number is positive, negative, or zero.\n",
        "\n",
        "\n"
      ],
      "metadata": {
        "id": "kcQVTs901z_s"
      }
    },
    {
      "cell_type": "code",
      "source": [
        "num = 10\n",
        "\n",
        "# Check if the number is positive, negative, or zero\n",
        "if num > 0:\n",
        "    print(\"The number is positive.\")\n",
        "elif num < 0:\n",
        "    print(\"The number is negative.\")\n",
        "else:\n",
        "    print(\"The number is zero.\")"
      ],
      "metadata": {
        "colab": {
          "base_uri": "https://localhost:8080/"
        },
        "id": "S_xBQFmW2P36",
        "outputId": "e30cc7b5-c3ff-44c4-ef51-095aec89317d"
      },
      "execution_count": 3,
      "outputs": [
        {
          "output_type": "stream",
          "name": "stdout",
          "text": [
            "The number is positive.\n"
          ]
        }
      ]
    },
    {
      "cell_type": "markdown",
      "source": [
        "12. Write a for loop to print numbers from 1 to 10.\n"
      ],
      "metadata": {
        "id": "sXGnY3zE21Vw"
      }
    },
    {
      "cell_type": "code",
      "source": [
        "for i in range(1, 11):\n",
        "    print(i)\n"
      ],
      "metadata": {
        "colab": {
          "base_uri": "https://localhost:8080/"
        },
        "id": "uXd5DtVd3CiJ",
        "outputId": "4e8d3cd0-a1ea-48fc-9ffc-db57ed1eb4a1"
      },
      "execution_count": 4,
      "outputs": [
        {
          "output_type": "stream",
          "name": "stdout",
          "text": [
            "1\n",
            "2\n",
            "3\n",
            "4\n",
            "5\n",
            "6\n",
            "7\n",
            "8\n",
            "9\n",
            "10\n"
          ]
        }
      ]
    },
    {
      "cell_type": "markdown",
      "source": [
        "13. Write a Python program to find the sum of all even numbers between 1 and 50.\n"
      ],
      "metadata": {
        "id": "WKrjri6M3IvM"
      }
    },
    {
      "cell_type": "code",
      "source": [
        "total = 0\n",
        "\n",
        "# Loop through numbers from 1 to 50\n",
        "for num in range(1, 51):\n",
        "    if num % 2 == 0:\n",
        "        total +=num\n",
        "print(\"Sum of even numbers from 1 to 50 is:\", total)"
      ],
      "metadata": {
        "colab": {
          "base_uri": "https://localhost:8080/"
        },
        "id": "3sFSYhUi3S8c",
        "outputId": "9b530da5-471b-4df2-acf3-eb2fe41bda18"
      },
      "execution_count": 5,
      "outputs": [
        {
          "output_type": "stream",
          "name": "stdout",
          "text": [
            "Sum of even numbers from 1 to 50 is: 650\n"
          ]
        }
      ]
    },
    {
      "cell_type": "markdown",
      "source": [
        "14. Write a program to reserve a string using a while loop.\n"
      ],
      "metadata": {
        "id": "wRMtcU7c3whD"
      }
    },
    {
      "cell_type": "code",
      "source": [
        "b = \"hello world\"\n",
        "\n",
        "reversed_b = \"\"\n",
        "\n",
        "index = len(b) - 1\n",
        "\n",
        "while index >= 0:\n",
        "    reversed_b += b[index]\n",
        "    index -= 1\n",
        "print(reversed_b)"
      ],
      "metadata": {
        "colab": {
          "base_uri": "https://localhost:8080/"
        },
        "id": "9KUJpe2I5YWv",
        "outputId": "06eba315-ac76-4f23-c252-f13fea339a1d"
      },
      "execution_count": 18,
      "outputs": [
        {
          "output_type": "stream",
          "name": "stdout",
          "text": [
            "dlrow olleh\n"
          ]
        }
      ]
    },
    {
      "cell_type": "markdown",
      "source": [
        "15. Write a Python program to calculate the factorial of a number provided by the user using a while loop.\n"
      ],
      "metadata": {
        "id": "8VWFVz6P6dIT"
      }
    },
    {
      "cell_type": "code",
      "source": [
        "num = int(\"2\")  # Correct variable name\n",
        "\n",
        "factorial = 1\n",
        "if num < 0:\n",
        "    print(\"Factorial is not defined for negative numbers.\")\n",
        "else:\n",
        "    while num > 0:\n",
        "        factorial *= num\n",
        "        num -= 1\n",
        "    print(\"Factorial is:\", factorial)"
      ],
      "metadata": {
        "colab": {
          "base_uri": "https://localhost:8080/"
        },
        "id": "xyrf7UJn6s1B",
        "outputId": "d0c242da-aa66-4142-cfef-bd243dcd4113"
      },
      "execution_count": 2,
      "outputs": [
        {
          "output_type": "stream",
          "name": "stdout",
          "text": [
            "Factorial is: 2\n"
          ]
        }
      ]
    }
  ]
}